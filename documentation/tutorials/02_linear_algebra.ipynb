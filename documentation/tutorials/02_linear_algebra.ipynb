{
 "cells": [
  {
   "cell_type": "code",
   "execution_count": 1,
   "metadata": {
    "scrolled": true
   },
   "outputs": [
    {
     "name": "stdout",
     "output_type": "stream",
     "text": [
      "SharedMemoryNone: SharedMemoryAllocate 1073741824 GPU implementation \n",
      "0SharedMemoryNone:  SharedMemoryNone.cc acceleratorAllocDevice 1073741824bytes at 0x7f0396200000 for comms buffers \n",
      "\n",
      "__|__|__|__|__|__|__|__|__|__|__|__|__|__|__\n",
      "__|__|__|__|__|__|__|__|__|__|__|__|__|__|__\n",
      "__|_ |  |  |  |  |  |  |  |  |  |  |  | _|__\n",
      "__|_                                    _|__\n",
      "__|_   GGGG    RRRR    III    DDDD      _|__\n",
      "__|_  G        R   R    I     D   D     _|__\n",
      "__|_  G        R   R    I     D    D    _|__\n",
      "__|_  G  GG    RRRR     I     D    D    _|__\n",
      "__|_  G   G    R  R     I     D   D     _|__\n",
      "__|_   GGGG    R   R   III    DDDD      _|__\n",
      "__|_                                    _|__\n",
      "__|__|__|__|__|__|__|__|__|__|__|__|__|__|__\n",
      "__|__|__|__|__|__|__|__|__|__|__|__|__|__|__\n",
      "  |  |  |  |  |  |  |  |  |  |  |  |  |  |  \n",
      "\n",
      "\n",
      "Copyright (C) 2015 Peter Boyle, Azusa Yamaguchi, Guido Cossu, Antonin Portelli and other authors\n",
      "\n",
      "This program is free software; you can redistribute it and/or modify\n",
      "it under the terms of the GNU General Public License as published by\n",
      "the Free Software Foundation; either version 2 of the License, or\n",
      "(at your option) any later version.\n",
      "\n",
      "This program is distributed in the hope that it will be useful,\n",
      "but WITHOUT ANY WARRANTY; without even the implied warranty of\n",
      "MERCHANTABILITY or FITNESS FOR A PARTICULAR PURPOSE.  See the\n",
      "GNU General Public License for more details.\n",
      "Current Grid git commit hash=c50f27e68bd4b3e4fb6a1da00aebe224f0a0bc23: (grafted, HEAD -> feature/gpt, origin/feature/gpt) clean\n",
      "\n",
      "Grid : Message : ================================================ \n",
      "Grid : Message : MPI is initialised and logging filters activated \n",
      "Grid : Message : ================================================ \n",
      "Grid : Message : Requested 1073741824 byte stencil comms buffers \n",
      "Grid : Message : MemoryManager::Init() setting up\n",
      "Grid : Message : MemoryManager::Init() cache pool for recent allocations: SMALL 32 LARGE 8\n",
      "Grid : Message : MemoryManager::Init() Unified memory space\n",
      "\n",
      "=============================================\n",
      "              Initialized GPT                \n",
      "     Copyright (C) 2020 Christoph Lehner     \n",
      "=============================================\n"
     ]
    }
   ],
   "source": [
    "import gpt as g\n",
    "import numpy as np"
   ]
  },
  {
   "cell_type": "markdown",
   "metadata": {},
   "source": [
    "## Lecture 2: Linear algebra with lattices"
   ]
  },
  {
   "cell_type": "markdown",
   "metadata": {},
   "source": [
    "We start by creating a $4^4$ double precision grid."
   ]
  },
  {
   "cell_type": "code",
   "execution_count": 2,
   "metadata": {},
   "outputs": [],
   "source": [
    "grid = g.grid([4, 4, 4, 4], g.double)"
   ]
  },
  {
   "cell_type": "markdown",
   "metadata": {},
   "source": [
    "Next, we create a parallel pseudorandom number generator and two color vectors from a complex normal distribution."
   ]
  },
  {
   "cell_type": "code",
   "execution_count": 3,
   "metadata": {},
   "outputs": [
    {
     "name": "stdout",
     "output_type": "stream",
     "text": [
      "GPT :       0.409328 s : Initializing gpt.random(seed for rng,vectorized_ranlux24_389_64) took 0.000268459 s\n"
     ]
    }
   ],
   "source": [
    "rng = g.random(\"seed for rng\")\n",
    "v1 = g.vcolor(grid)\n",
    "v2 = g.vcolor(grid)\n",
    "rng.cnormal([v1,v2]);"
   ]
  },
  {
   "cell_type": "markdown",
   "metadata": {},
   "source": [
    "We inspect a one-dimensional slice of $v_1$."
   ]
  },
  {
   "cell_type": "code",
   "execution_count": 4,
   "metadata": {},
   "outputs": [
    {
     "data": {
      "text/plain": [
       "array([[-0.58527248-0.85360387j, -1.580872  -1.50785674j,\n",
       "        -1.04090035+0.40186692j],\n",
       "       [-0.23550862-0.90891595j,  0.73888871+0.21903038j,\n",
       "         1.10074976+1.52119033j],\n",
       "       [ 0.79255516+0.64832885j, -0.22812566+0.54092838j,\n",
       "         1.17416062-0.72316771j],\n",
       "       [-0.81076797+0.6141707j ,  0.6581139 -0.02166552j,\n",
       "         0.17446881+0.19891321j]])"
      ]
     },
     "execution_count": 4,
     "metadata": {},
     "output_type": "execute_result"
    }
   ],
   "source": [
    "v1[0,0,0,:]"
   ]
  },
  {
   "cell_type": "markdown",
   "metadata": {},
   "source": [
    "Let us now take a linear combination of $\\frac12 v_1 + 3 v_2$.  Note that there is a difference between abstract expressions and evaluating them to lattice fields."
   ]
  },
  {
   "cell_type": "code",
   "execution_count": 5,
   "metadata": {},
   "outputs": [
    {
     "name": "stdout",
     "output_type": "stream",
     "text": [
      "GPT :       0.451677 s : This is an expression:  + ((0.5+0j))*lattice(ot_vector_color(3),double) + ((3+0j))*lattice(ot_vector_color(3),double)\n",
      "GPT :       0.468984 s : And this is the coordinate (0,0,0,0) of the evaluated lattice object: tensor([ 0.09215363+4.58520759j  0.53058119-4.0223991j  -0.79159505+2.5800456j ],ot_vector_color(3))\n"
     ]
    }
   ],
   "source": [
    "expr = 1./2. * v1 + 3. * v2\n",
    "\n",
    "g.message(\"This is an expression:\", expr)\n",
    "\n",
    "result = g.eval(expr)\n",
    "\n",
    "g.message(\"And this is the coordinate (0,0,0,0) of the evaluated lattice object:\", result[0,0,0,0])"
   ]
  },
  {
   "cell_type": "markdown",
   "metadata": {},
   "source": [
    "Since the \"=\" operator in Python cannot be overloaded and always assigns the Python object on the right side to the symbol to left, GPT uses the operator \"@=\" to assign the result of an expression to a lattice field."
   ]
  },
  {
   "cell_type": "code",
   "execution_count": 6,
   "metadata": {},
   "outputs": [
    {
     "name": "stdout",
     "output_type": "stream",
     "text": [
      "GPT :       0.478653 s : Difference between g.eval(...) and @= operation: 0.0\n"
     ]
    }
   ],
   "source": [
    "result2 = g.lattice(v1) # creates a lattice of same type than v1 without initializing the values\n",
    "result2 @= expr\n",
    "\n",
    "g.message(\"Difference between g.eval(...) and @= operation:\", g.norm2(result2 - result))"
   ]
  },
  {
   "cell_type": "markdown",
   "metadata": {},
   "source": [
    "It is also useful to know of the increment operator:"
   ]
  },
  {
   "cell_type": "code",
   "execution_count": 7,
   "metadata": {},
   "outputs": [],
   "source": [
    "result += v1"
   ]
  },
  {
   "cell_type": "markdown",
   "metadata": {},
   "source": [
    "Next, let us construct site-local inner and outer products from our vectors."
   ]
  },
  {
   "cell_type": "code",
   "execution_count": 8,
   "metadata": {},
   "outputs": [
    {
     "name": "stdout",
     "output_type": "stream",
     "text": [
      "GPT :       0.504401 s : Origin of inner_product field: (-0.14170995506280581+0.7288503091897771j)\n",
      "GPT :       0.510657 s : Origin of outer_product field: tensor([[-1.50115922+0.86831104j  0.67227476-1.01352379j -0.6240419 +0.54129306j]\n",
      "                       :  [-2.72189862+2.44771251j  0.94667551-2.38631285j -1.05290498+1.38997313j]\n",
      "                       :  [ 0.53787765+1.79054559j -0.89617918-0.95709307j  0.41277376+0.7891515j ]],ot_matrix_su_n_fundamental_group(3))\n"
     ]
    }
   ],
   "source": [
    "local_inner_product = g.complex(grid)\n",
    "local_inner_product @= g.adj(v1) * v2\n",
    "\n",
    "local_outer_product = g.mcolor(grid)\n",
    "local_outer_product @= v1 * g.adj(v2)\n",
    "\n",
    "g.message(\"Origin of inner_product field:\", local_inner_product[0,0,0,0])\n",
    "\n",
    "g.message(\"Origin of outer_product field:\", local_outer_product[0,0,0,0])\n"
   ]
  },
  {
   "cell_type": "code",
   "execution_count": 9,
   "metadata": {},
   "outputs": [
    {
     "name": "stdout",
     "output_type": "stream",
     "text": [
      "GPT :       0.521912 s : v1 . v2 (-44.827357722843956-52.851620669240525j)\n",
      "GPT :       0.524068 s : sum(local_inner_product) (-44.82735772284396-52.851620669240525j)\n",
      "GPT :       0.525660 s : v1 . v1 (1592.0538142528967-2.14659970599242e-15j)\n",
      "GPT :       0.527248 s : norm2(v1) 1592.0538142528967\n"
     ]
    }
   ],
   "source": [
    "v12 = g.inner_product(v1, v2)\n",
    "v11 = g.inner_product(v1, v1)\n",
    "n1 = g.norm2(v1)\n",
    "\n",
    "g.message(\"v1 . v2\", v12)\n",
    "g.message(\"sum(local_inner_product)\", g.sum(local_inner_product))\n",
    "\n",
    "g.message(\"v1 . v1\", v11)\n",
    "g.message(\"norm2(v1)\", n1)\n"
   ]
  },
  {
   "cell_type": "markdown",
   "metadata": {},
   "source": [
    "We move on to SU(3) matrices now.  g.mcolor is short-hand for the QCD gauge group, but GPT has general SU(N) and U(1) implemented.  We initialize a SU(3) matrix with a random near-unit element and then compute its site-wise determinant and inverse and check the results."
   ]
  },
  {
   "cell_type": "code",
   "execution_count": 29,
   "metadata": {},
   "outputs": [
    {
     "name": "stdout",
     "output_type": "stream",
     "text": [
      "GPT :     277.981400 s : Origin of V: tensor([[ 9.99958757e-01-0.00101886j -7.76748844e-04+0.00360413j\n",
      "                       :   -9.24397517e-04+0.0081853j ]\n",
      "                       :  [ 7.82807158e-04+0.00363416j  9.99961810e-01-0.0061684j\n",
      "                       :    4.02449857e-03+0.00288309j]\n",
      "                       :  [ 8.60354990e-04+0.00817842j -4.05774034e-03+0.00287582j\n",
      "                       :    9.99927990e-01+0.00718697j]],ot_matrix_su_n_fundamental_group(3))\n"
     ]
    }
   ],
   "source": [
    "V = g.mcolor(grid)\n",
    "rng.normal_element(V, scale=0.01)\n",
    "\n",
    "g.message(\"Origin of V:\", V[0,0,0,0])"
   ]
  },
  {
   "cell_type": "code",
   "execution_count": 30,
   "metadata": {},
   "outputs": [
    {
     "name": "stdout",
     "output_type": "stream",
     "text": [
      "GPT :     278.380816 s : Slice of local determinant: [[1.+1.56076289e-18j]\n",
      "                       :  [1.-2.61415044e-18j]\n",
      "                       :  [1.+1.35209701e-18j]\n",
      "                       :  [1.+1.11941845e-18j]]\n"
     ]
    }
   ],
   "source": [
    "det_V = g.matrix.det(V)\n",
    "\n",
    "g.message(\"Slice of local determinant:\", det_V[0,0,0,:])"
   ]
  },
  {
   "cell_type": "code",
   "execution_count": 31,
   "metadata": {},
   "outputs": [
    {
     "name": "stdout",
     "output_type": "stream",
     "text": [
      "GPT :     278.708010 s : Difference between matrix inverse and adjoint for unitary matrix: 1.6731290387825207e-29\n"
     ]
    }
   ],
   "source": [
    "inv_V = g.matrix.inv(V)\n",
    "\n",
    "g.message(\"Difference between matrix inverse and adjoint for unitary matrix:\", g.norm2(inv_V - g.adj(V)))"
   ]
  },
  {
   "cell_type": "markdown",
   "metadata": {},
   "source": [
    "We can also check that the logarithm of the matrix is anti-Hermitian."
   ]
  },
  {
   "cell_type": "code",
   "execution_count": 32,
   "metadata": {},
   "outputs": [
    {
     "data": {
      "text/plain": [
       "2.0041293724770068e-29"
      ]
     },
     "execution_count": 32,
     "metadata": {},
     "output_type": "execute_result"
    }
   ],
   "source": [
    "logV = g.matrix.log(V)\n",
    "g.norm2(logV + g.adj(logV))"
   ]
  },
  {
   "cell_type": "markdown",
   "metadata": {},
   "source": [
    "There are also component-wise operations, see, e.g., the cosine:"
   ]
  },
  {
   "cell_type": "code",
   "execution_count": 36,
   "metadata": {},
   "outputs": [
    {
     "data": {
      "text/plain": [
       "tensor([[0.54033729+8.57321741e-04j 1.00000619+2.79950666e-06j\n",
       "  1.00003307+7.56655425e-06j]\n",
       " [1.0000063 -2.84484965e-06j 0.54034472+5.19043355e-03j\n",
       "  0.99999606-1.16029684e-05j]\n",
       " [1.00003307-7.03642540e-06j 0.9999959 +1.16693173e-05j\n",
       "  0.54037685-6.04739656e-03j]],ot_matrix_su_n_fundamental_group(3))"
      ]
     },
     "execution_count": 36,
     "metadata": {},
     "output_type": "execute_result"
    }
   ],
   "source": [
    "g.component.cos(V)[0,0,0,0]"
   ]
  }
 ],
 "metadata": {
  "kernelspec": {
   "display_name": "Python 3 (ipykernel)",
   "language": "python",
   "name": "python3"
  },
  "language_info": {
   "codemirror_mode": {
    "name": "ipython",
    "version": 3
   },
   "file_extension": ".py",
   "mimetype": "text/x-python",
   "name": "python",
   "nbconvert_exporter": "python",
   "pygments_lexer": "ipython3",
   "version": "3.8.10"
  }
 },
 "nbformat": 4,
 "nbformat_minor": 4
}
